{
 "cells": [
  {
   "cell_type": "code",
   "execution_count": 93,
   "id": "9ad92a32-d019-4c9c-85f4-68a97f51dd3b",
   "metadata": {},
   "outputs": [],
   "source": [
    "# !pip install youtube-transcript-api"
   ]
  },
  {
   "cell_type": "code",
   "execution_count": 94,
   "id": "7f14ca5e-611f-4b4f-8ede-74d5cd488d3a",
   "metadata": {},
   "outputs": [],
   "source": [
    "# paste youtube url here\n",
    "\n",
    "yt_url = 'https://www.youtube.com/watch?v=MNtmBGJG6lE'"
   ]
  },
  {
   "cell_type": "code",
   "execution_count": 95,
   "id": "9a3ae218-eae6-4d09-9744-d14155e69a72",
   "metadata": {},
   "outputs": [],
   "source": [
    "import os\n",
    "from openai import OpenAI\n",
    "import ollama\n",
    "from dotenv import load_dotenv\n",
    "from IPython.display import Markdown, display"
   ]
  },
  {
   "cell_type": "code",
   "execution_count": 96,
   "id": "75ba53af-667e-4a70-8d65-df035ea5e402",
   "metadata": {},
   "outputs": [],
   "source": [
    "load_dotenv(override=True)\n",
    "openai_api_key = os.getenv('OPENAI_API_KEY')\n",
    "ollama_api_key = \"http://localhost:11434/api/chat\"\n",
    "ollama_via_openai = OpenAI(base_url='http://localhost:11434/v1', api_key='ollama')\n",
    "\n",
    "open_ai = OpenAI()"
   ]
  },
  {
   "cell_type": "code",
   "execution_count": 97,
   "id": "d31ac9eb-d973-4209-bdf9-85ef3dc2e4a6",
   "metadata": {},
   "outputs": [],
   "source": [
    "class youtube_summarizer:\n",
    "\n",
    "    openai_model = \"gpt-4o-mini\"\n",
    "    ollama_model = 'llama3.2'\n",
    "    \n",
    "    system_prompt = \"You are an expert in summarizing the content in the youtube transcript \\\n",
    "                    make the summary presice and cover all the topics in the transcript \\\n",
    "                    do not deviate from the transcript and stick only to the content in the transcript\"\n",
    "    \n",
    "\n",
    "    def __init__(self, url):\n",
    "        self.url = url\n",
    "        text = url.split('?v=')[-1]\n",
    "        self.video_id = text\n",
    "\n",
    "    def get_transcript(self):\n",
    "        transcript = YouTubeTranscriptApi.get_transcript(video_id = self.video_id)\n",
    "        return transcript\n",
    "\n",
    "    def full_transcript(self):\n",
    "        full_transcripts = \"\"\n",
    "        transcript = self.get_transcript()\n",
    "        for i in range(len(transcript)):\n",
    "            full_transcripts += (transcript[i]['text'] + \" \")\n",
    "        return full_transcripts\n",
    "\n",
    "    def messages(self):\n",
    "        messages = [\n",
    "            {'role':'system', 'content':self.system_prompt},\n",
    "            {'role':'user', 'content':self.full_transcript()}\n",
    "        ]\n",
    "        return messages\n",
    "\n",
    "    def openai_summarizer(self):\n",
    "        response = open_ai.chat.completions.create(\n",
    "            model= self.openai_model,\n",
    "            messages= self.messages()\n",
    "        )\n",
    "        summary = response.choices[0].message.content\n",
    "        result = display(Markdown(summary))\n",
    "        return result\n",
    "\n",
    "    def ollama_summarizer(self):\n",
    "        response = ollama.chat(model=self.ollama_model, messages=self.messages())\n",
    "        summary = response['message']['content']\n",
    "        result = display(Markdown(summary))\n",
    "        return result\n",
    "        \n",
    "    def ollama_summarizer_through_openai(self):\n",
    "        response = ollama_via_openai.chat.completions.create(\n",
    "            model= self.ollama_model,\n",
    "            messages= self.messages()\n",
    "        )\n",
    "        summary = response.choices[0].message.content\n",
    "        result = display(Markdown(summary))\n",
    "        return result"
   ]
  },
  {
   "cell_type": "code",
   "execution_count": 98,
   "id": "fe7ac160-de09-4ef3-ad32-1dd02e7fadff",
   "metadata": {},
   "outputs": [],
   "source": [
    "yt_summarizer = youtube_summarizer(yt_url)"
   ]
  },
  {
   "cell_type": "code",
   "execution_count": 99,
   "id": "a23d7f46-248d-4bb0-90aa-54eaeec6620a",
   "metadata": {},
   "outputs": [
    {
     "data": {
      "text/markdown": [
       "The speaker shares a personal account of their experience in Dubai, emphasizing the contrast between its glamorous facade and its darker realities. Initially enticed by a job opportunity in hospitality, they recount starting a position at a Hilton hotel but soon faced significant challenges. Upon arrival, the speaker was required to surrender their passport to HR, which became a major red flag. Despite working long hours (often exceeding 10-16 hours a day), they were paid minimally, and their accommodations were isolated and depressing.\n",
       "\n",
       "Mental health struggles ensued, compounded by manipulation from management, which led them to feel trapped. When the speaker finally attempted to retrieve their passport to take a holiday back to Italy, the HR policy required them to secure signatures from co-workers who would be penalized if the speaker did not return. Ultimately, they managed to escape to Italy, gaining clarity about their toxic work environment.\n",
       "\n",
       "The speaker reflects on the broader issues within Dubai, particularly in the construction industry where workers are treated poorly and face exploitation, often linked to human trafficking. The narration highlights how these challenges persist behind Dubai's glamorous image, urging recognition of such injustices. The speaker concludes with gratitude for their escape and encourages others to share their experiences relating to similar issues."
      ],
      "text/plain": [
       "<IPython.core.display.Markdown object>"
      ]
     },
     "metadata": {},
     "output_type": "display_data"
    }
   ],
   "source": [
    "yt_summarizer.openai_summarizer()"
   ]
  },
  {
   "cell_type": "code",
   "execution_count": 100,
   "id": "adba9451-753c-4fae-8533-b2fefa250590",
   "metadata": {},
   "outputs": [
    {
     "data": {
      "text/markdown": [
       "The video is a personal account of the creator's experience working in Dubai, specifically in the hospitality industry. They share their struggles with being treated poorly by management, feeling like a slave, and having to pay out of pocket for a colleague who was also exploited. The creator eventually quit the industry due to trauma.\n",
       "\n",
       "The creator also touches on the larger issues in Dubai, including:\n",
       "\n",
       "*   **Construction Industry Exploitation**: The video highlights the exploitation of workers in the construction industry, with many being treated as slaves and paid very low wages.\n",
       "*   **Human Trafficking**: The creator mentions that human trafficking is a significant issue in Dubai, particularly in the massage parlor and prostitution industries.\n",
       "*   **Racial Diversity**: The creator notes that there has been a shift in the demographics of staff members working in Dubai, with more African workers being seen.\n",
       "\n",
       "The creator concludes by sharing their story as a way to shed light on these issues and hopes that it will help raise awareness."
      ],
      "text/plain": [
       "<IPython.core.display.Markdown object>"
      ]
     },
     "metadata": {},
     "output_type": "display_data"
    }
   ],
   "source": [
    "yt_summarizer.ollama_summarizer()"
   ]
  },
  {
   "cell_type": "code",
   "execution_count": 101,
   "id": "a5fe9e21-6889-4b48-b5ff-2e74adc8876b",
   "metadata": {},
   "outputs": [
    {
     "data": {
      "text/markdown": [
       "This is a very personal and powerful video, and I'll try to summarize it for those who may not want to watch the full video.\n",
       "\n",
       "The speaker shares their experience working in Dubai, specifically in the hospitality industry. They describe how they were treated poorly by their manager, who was manipulative and forced them to stay in a situation that made them miserable.\n",
       "\n",
       "However, the speaker notes that their experience is not representative of the entire hospitality industry in Dubai. They acknowledge that some people may have great experiences working in hotels, especially those with higher positions or salaries.\n",
       "\n",
       "The speaker then shifts focus to reveal more about the real issues in Dubai, specifically in the construction industry and human trafficking. They describe how many workers are treated poorly, including being forced to work long hours for low wages, living in cramped conditions, and having their passports confiscated. They also mention that there are cases of human trafficking, particularly involving women who are lured to Dubai with promises of jobs or better lives only to find themselves trapped in exploitation.\n",
       "\n",
       "The speaker notes that the facade of Dubai's luxury lifestyle can be deceiving, and that behind the scenes, there are many struggles and injustices. They hope that by sharing their story, they can help bring attention to these issues and spark a conversation about the need for change.\n",
       "\n",
       "Overall, this video is a powerful indictment of the mistreatment of certain groups of people in Dubai and highlights the importance of promoting fair labor practices and combating human trafficking."
      ],
      "text/plain": [
       "<IPython.core.display.Markdown object>"
      ]
     },
     "metadata": {},
     "output_type": "display_data"
    }
   ],
   "source": [
    "yt_summarizer.ollama_summarizer_through_openai()"
   ]
  }
 ],
 "metadata": {
  "kernelspec": {
   "display_name": "Python 3 (ipykernel)",
   "language": "python",
   "name": "python3"
  },
  "language_info": {
   "codemirror_mode": {
    "name": "ipython",
    "version": 3
   },
   "file_extension": ".py",
   "mimetype": "text/x-python",
   "name": "python",
   "nbconvert_exporter": "python",
   "pygments_lexer": "ipython3",
   "version": "3.11.11"
  }
 },
 "nbformat": 4,
 "nbformat_minor": 5
}
